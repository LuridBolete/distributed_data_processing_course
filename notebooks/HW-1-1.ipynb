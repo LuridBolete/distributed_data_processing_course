{
 "cells": [
  {
   "cell_type": "code",
   "execution_count": 2,
   "id": "f9c9f32c-fae9-4504-ac2b-145e19a4cfcd",
   "metadata": {},
   "outputs": [
    {
     "name": "stdout",
     "output_type": "stream",
     "text": [
      "mkdir: `/test': File exists\n"
     ]
    }
   ],
   "source": [
    "!hadoop fs -mkdir /test"
   ]
  },
  {
   "cell_type": "code",
   "execution_count": 3,
   "id": "24af0d91-b10f-48bc-8835-6b1847c6b774",
   "metadata": {},
   "outputs": [],
   "source": [
    "!hadoop fs -put the_problem_with_matches.txt /test"
   ]
  },
  {
   "cell_type": "code",
   "execution_count": 4,
   "id": "aa320646-4db4-49e8-889a-1a3f83ef1179",
   "metadata": {},
   "outputs": [
    {
     "name": "stdout",
     "output_type": "stream",
     "text": [
      "117  351  /test/the_problem_with_matches.txt\n"
     ]
    }
   ],
   "source": [
    "!hadoop fs -du -h /test"
   ]
  },
  {
   "cell_type": "code",
   "execution_count": 6,
   "id": "6889bd5d-1c0a-49ce-b7df-184b438342d3",
   "metadata": {},
   "outputs": [
    {
     "name": "stdout",
     "output_type": "stream",
     "text": [
      "-rw-r--r--   3 root supergroup        117 2023-11-27 18:12 /test/the_problem_with_matches.txt\n"
     ]
    }
   ],
   "source": [
    "!hadoop fs -ls /test/the_problem_with_matches.txt"
   ]
  },
  {
   "cell_type": "code",
   "execution_count": 8,
   "id": "d4a7a30b-cc6c-4fbb-8fdb-e6ac7268f171",
   "metadata": {},
   "outputs": [
    {
     "name": "stdout",
     "output_type": "stream",
     "text": [
      "\"Equality\" is laid out on the table with matches\n",
      "\n",
      "  XI+I=X \n",
      "\n",
      "How to make it true without touching a single match?"
     ]
    }
   ],
   "source": [
    "!hadoop fs -cat /test/the_problem_with_matches.txt"
   ]
  },
  {
   "cell_type": "code",
   "execution_count": 15,
   "id": "6d38fe37-b133-4fac-bc58-d7f10a3f1fa1",
   "metadata": {},
   "outputs": [
    {
     "name": "stdout",
     "output_type": "stream",
     "text": [
      "Number of Maps  = 5\n",
      "Samples per Map = 300\n",
      "Wrote input for Map #0\n",
      "Wrote input for Map #1\n",
      "Wrote input for Map #2\n",
      "Wrote input for Map #3\n",
      "Wrote input for Map #4\n",
      "Starting Job\n",
      "2023-11-27 18:49:08 INFO  DefaultNoHARMFailoverProxyProvider:64 - Connecting to ResourceManager at resourcemanager/172.18.0.4:8032\n",
      "2023-11-27 18:49:09 INFO  JobResourceUploader:907 - Disabling Erasure Coding for path: /tmp/hadoop-yarn/staging/root/.staging/job_1701097893414_0004\n",
      "2023-11-27 18:49:09 INFO  FileInputFormat:300 - Total input files to process : 5\n",
      "2023-11-27 18:49:10 INFO  JobSubmitter:202 - number of splits:5\n",
      "2023-11-27 18:49:10 INFO  JobSubmitter:298 - Submitting tokens for job: job_1701097893414_0004\n",
      "2023-11-27 18:49:10 INFO  JobSubmitter:299 - Executing with tokens: []\n",
      "2023-11-27 18:49:11 INFO  Configuration:2854 - resource-types.xml not found\n",
      "2023-11-27 18:49:11 INFO  ResourceUtils:476 - Unable to find 'resource-types.xml'.\n",
      "2023-11-27 18:49:11 INFO  YarnClientImpl:338 - Submitted application application_1701097893414_0004\n",
      "2023-11-27 18:49:11 INFO  Job:1682 - The url to track the job: http://resourcemanager:8088/proxy/application_1701097893414_0004/\n",
      "2023-11-27 18:49:11 INFO  Job:1727 - Running job: job_1701097893414_0004\n",
      "2023-11-27 18:49:31 INFO  Job:1748 - Job job_1701097893414_0004 running in uber mode : false\n",
      "2023-11-27 18:49:31 INFO  Job:1755 -  map 0% reduce 0%\n",
      "2023-11-27 18:49:47 INFO  Job:1755 -  map 40% reduce 0%\n",
      "2023-11-27 18:49:50 INFO  Job:1755 -  map 60% reduce 0%\n",
      "2023-11-27 18:50:03 INFO  Job:1755 -  map 80% reduce 0%\n",
      "2023-11-27 18:50:04 INFO  Job:1755 -  map 100% reduce 0%\n",
      "2023-11-27 18:50:05 INFO  Job:1755 -  map 100% reduce 100%\n",
      "2023-11-27 18:50:06 INFO  Job:1766 - Job job_1701097893414_0004 completed successfully\n",
      "2023-11-27 18:50:06 INFO  Job:1773 - Counters: 54\n",
      "\tFile System Counters\n",
      "\t\tFILE: Number of bytes read=116\n",
      "\t\tFILE: Number of bytes written=1672797\n",
      "\t\tFILE: Number of read operations=0\n",
      "\t\tFILE: Number of large read operations=0\n",
      "\t\tFILE: Number of write operations=0\n",
      "\t\tHDFS: Number of bytes read=1285\n",
      "\t\tHDFS: Number of bytes written=215\n",
      "\t\tHDFS: Number of read operations=25\n",
      "\t\tHDFS: Number of large read operations=0\n",
      "\t\tHDFS: Number of write operations=3\n",
      "\t\tHDFS: Number of bytes read erasure-coded=0\n",
      "\tJob Counters \n",
      "\t\tLaunched map tasks=5\n",
      "\t\tLaunched reduce tasks=1\n",
      "\t\tRack-local map tasks=5\n",
      "\t\tTotal time spent by all maps in occupied slots (ms)=122838\n",
      "\t\tTotal time spent by all reduces in occupied slots (ms)=29360\n",
      "\t\tTotal time spent by all map tasks (ms)=61419\n",
      "\t\tTotal time spent by all reduce tasks (ms)=14680\n",
      "\t\tTotal vcore-milliseconds taken by all map tasks=61419\n",
      "\t\tTotal vcore-milliseconds taken by all reduce tasks=14680\n",
      "\t\tTotal megabyte-milliseconds taken by all map tasks=62893056\n",
      "\t\tTotal megabyte-milliseconds taken by all reduce tasks=15032320\n",
      "\tMap-Reduce Framework\n",
      "\t\tMap input records=5\n",
      "\t\tMap output records=10\n",
      "\t\tMap output bytes=90\n",
      "\t\tMap output materialized bytes=140\n",
      "\t\tInput split bytes=695\n",
      "\t\tCombine input records=0\n",
      "\t\tCombine output records=0\n",
      "\t\tReduce input groups=2\n",
      "\t\tReduce shuffle bytes=140\n",
      "\t\tReduce input records=10\n",
      "\t\tReduce output records=0\n",
      "\t\tSpilled Records=20\n",
      "\t\tShuffled Maps =5\n",
      "\t\tFailed Shuffles=0\n",
      "\t\tMerged Map outputs=5\n",
      "\t\tGC time elapsed (ms)=749\n",
      "\t\tCPU time spent (ms)=7900\n",
      "\t\tPhysical memory (bytes) snapshot=1709142016\n",
      "\t\tVirtual memory (bytes) snapshot=15366352896\n",
      "\t\tTotal committed heap usage (bytes)=1258291200\n",
      "\t\tPeak Map Physical memory (bytes)=321089536\n",
      "\t\tPeak Map Virtual memory (bytes)=2560716800\n",
      "\t\tPeak Reduce Physical memory (bytes)=180150272\n",
      "\t\tPeak Reduce Virtual memory (bytes)=2568720384\n",
      "\tShuffle Errors\n",
      "\t\tBAD_ID=0\n",
      "\t\tCONNECTION=0\n",
      "\t\tIO_ERROR=0\n",
      "\t\tWRONG_LENGTH=0\n",
      "\t\tWRONG_MAP=0\n",
      "\t\tWRONG_REDUCE=0\n",
      "\tFile Input Format Counters \n",
      "\t\tBytes Read=590\n",
      "\tFile Output Format Counters \n",
      "\t\tBytes Written=97\n",
      "Job Finished in 58.973 seconds\n",
      "Estimated value of Pi is 3.15200000000000000000\n"
     ]
    }
   ],
   "source": [
    "!hadoop jar /opt/hadoop/share/hadoop/mapreduce/hadoop-mapreduce-examples-3.3.6.jar pi 5 300"
   ]
  }
 ],
 "metadata": {
  "kernelspec": {
   "display_name": "Python 3 (ipykernel)",
   "language": "python",
   "name": "python3"
  },
  "language_info": {
   "codemirror_mode": {
    "name": "ipython",
    "version": 3
   },
   "file_extension": ".py",
   "mimetype": "text/x-python",
   "name": "python",
   "nbconvert_exporter": "python",
   "pygments_lexer": "ipython3",
   "version": "3.10.12"
  }
 },
 "nbformat": 4,
 "nbformat_minor": 5
}
